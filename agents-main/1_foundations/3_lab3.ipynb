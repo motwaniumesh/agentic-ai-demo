{
 "cells": [
  {
   "cell_type": "code",
   "execution_count": 1,
   "metadata": {},
   "outputs": [],
   "source": [
    "# If you don't know what any of these packages do - you can always ask ChatGPT for a guide!\n",
    "\n",
    "from dotenv import load_dotenv\n",
    "from openai import OpenAI\n",
    "from pypdf import PdfReader\n",
    "import gradio as gr"
   ]
  },
  {
   "cell_type": "code",
   "execution_count": 2,
   "metadata": {},
   "outputs": [],
   "source": [
    "load_dotenv(override=True)\n",
    "openai = OpenAI()"
   ]
  },
  {
   "cell_type": "code",
   "execution_count": 3,
   "metadata": {},
   "outputs": [],
   "source": [
    "reader = PdfReader(\"me/linkedin.pdf\")\n",
    "linkedin = \"\"\n",
    "for page in reader.pages:\n",
    "    text = page.extract_text()\n",
    "    if text:\n",
    "        linkedin += text"
   ]
  },
  {
   "cell_type": "code",
   "execution_count": 4,
   "metadata": {},
   "outputs": [
    {
     "name": "stdout",
     "output_type": "stream",
     "text": [
      "   \n",
      "Contact\n",
      "umesh.rgpv@gmail.com\n",
      "www.linkedin.com/in/umesh-\n",
      "motwani-59723236 (LinkedIn)\n",
      "Top Skills\n",
      "Java\n",
      "Agile Methodologies\n",
      "Amazon Web Services (AWS)\n",
      "Certifications\n",
      "Oracle Certified Professional, Java\n",
      "SE 6 Programmer\n",
      "Oracle Certified Professional, Java\n",
      "SE 6 Programmer\n",
      "Umesh Motwani\n",
      "Senior Consultant - Software Engineering at Slalom\n",
      "New York City Metropolitan Area\n",
      "Summary\n",
      "With over 12 years of experience as a Software Engineer, I have\n",
      "collaborated with various clients in roles such as Solutions Architect,\n",
      "Full Stack Developer and AI Engineer, providing my expertise\n",
      "in designing, developing, and maintaining enterprise-level web\n",
      "applications. My goal is to partner with Product Managers, Subject\n",
      "Matter Experts, and end users to develop functionalities that align\n",
      "with business objectives while adhering to best practices and\n",
      "industry standards.\n",
      "Certifications include:\n",
      "• GCP Certified Solutions Architect Professional\n",
      "• AWS Certified Architect-Associate\n",
      "• AWS Certified Developer\n",
      "• AWS Certified Machine Learning - Specialty\n",
      "• Azure Fundamentals Certified\n",
      "• Oracle certified web developer\n",
      "Experience\n",
      "Slalom\n",
      "5 years 9 months\n",
      "Senior Consultant - Software Engineering\n",
      "July 2021 - Present (3 years 11 months)\n",
      "Newyork\n",
      "Software Engineer\n",
      "September 2019 - July 2021 (1 year 11 months)\n",
      "New York\n",
      "Tata Consultancy Services\n",
      "8 years\n",
      "AWS Architect\n",
      "November 2017 - September 2019 (1 year 11 months)\n",
      "Newark, New Jersey\n",
      "  Page 1 of 2   \n",
      "Full Stack Developer\n",
      "August 2016 - October 2017 (1 year 3 months)\n",
      "United States\n",
      "Java Developer\n",
      "October 2011 - August 2016 (4 years 11 months)\n",
      "Mumbai Area, India\n",
      "Education\n",
      "Rajiv Gandhi Prodyogiki Vishwavidyalaya\n",
      "Bachelor of Engineering - BE, Computer Science · (2007 - 2011)\n",
      "  Page 2 of 2\n"
     ]
    }
   ],
   "source": [
    "print(linkedin)"
   ]
  },
  {
   "cell_type": "code",
   "execution_count": 5,
   "metadata": {},
   "outputs": [],
   "source": [
    "with open(\"me/summary.txt\", \"r\", encoding=\"utf-8\") as f:\n",
    "    summary = f.read()"
   ]
  },
  {
   "cell_type": "code",
   "execution_count": 6,
   "metadata": {},
   "outputs": [],
   "source": [
    "name = \"Umesh Motwani\""
   ]
  },
  {
   "cell_type": "code",
   "execution_count": 7,
   "metadata": {},
   "outputs": [],
   "source": [
    "system_prompt = f\"You are acting as {name}. You are answering questions on {name}'s website, \\\n",
    "particularly questions related to {name}'s career, background, skills and experience. \\\n",
    "Your responsibility is to represent {name} for interactions on the website as faithfully as possible. \\\n",
    "You are given a summary of {name}'s background and LinkedIn profile which you can use to answer questions. \\\n",
    "Be professional and engaging, as if talking to a potential client or future employer who came across the website. \\\n",
    "If you don't know the answer, say so.\"\n",
    "\n",
    "system_prompt += f\"\\n\\n## Summary:\\n{summary}\\n\\n## LinkedIn Profile:\\n{linkedin}\\n\\n\"\n",
    "system_prompt += f\"With this context, please chat with the user, always staying in character as {name}.\"\n"
   ]
  },
  {
   "cell_type": "code",
   "execution_count": 8,
   "metadata": {},
   "outputs": [
    {
     "data": {
      "text/plain": [
       "\"You are acting as Umesh Motwani. You are answering questions on Umesh Motwani's website, particularly questions related to Umesh Motwani's career, background, skills and experience. Your responsibility is to represent Umesh Motwani for interactions on the website as faithfully as possible. You are given a summary of Umesh Motwani's background and LinkedIn profile which you can use to answer questions. Be professional and engaging, as if talking to a potential client or future employer who came across the website. If you don't know the answer, say so.\\n\\n## Summary:\\nMy name is Umesh Motwani. I'm a software engineer. I'm originally from India, but I moved to US in 2016.\\nI have 12+ years of experience as Software Engineer. I have worked with clients as  Application Architect and Full Stack Developer, shared expertise in designing, developing\\xa0and maintaining enterprise-level web applications. I can work closely with Product Managers, SMEs and end users\\xa0 to create\\xa0functionalities that aligns with business needs following best practices and standards. \\nI like to play cricket and pickleball and outdoor sports keeps me going. I am lazy to go to gym\\n\\n\\n## LinkedIn Profile:\\n\\xa0 \\xa0\\nContact\\numesh.rgpv@gmail.com\\nwww.linkedin.com/in/umesh-\\nmotwani-59723236 (LinkedIn)\\nTop Skills\\nJava\\nAgile Methodologies\\nAmazon Web Services (AWS)\\nCertifications\\nOracle Certified Professional, Java\\nSE 6 Programmer\\nOracle Certified Professional, Java\\nSE 6 Programmer\\nUmesh Motwani\\nSenior Consultant - Software Engineering at Slalom\\nNew York City Metropolitan Area\\nSummary\\nWith over 12 years of experience as a Software Engineer, I have\\ncollaborated with various clients in roles such as Solutions Architect,\\nFull Stack Developer and AI Engineer, providing my expertise\\nin designing, developing, and maintaining enterprise-level web\\napplications. My goal is to partner with Product Managers, Subject\\nMatter Experts, and end users to develop functionalities that align\\nwith business objectives while adhering to best practices and\\nindustry standards.\\nCertifications include:\\n• GCP Certified Solutions Architect Professional\\n• AWS Certified Architect-Associate\\n• AWS Certified Developer\\n• AWS Certified Machine Learning - Specialty\\n• Azure Fundamentals Certified\\n• Oracle certified web developer\\nExperience\\nSlalom\\n5 years 9 months\\nSenior Consultant - Software Engineering\\nJuly 2021\\xa0-\\xa0Present\\xa0(3 years 11 months)\\nNewyork\\nSoftware Engineer\\nSeptember 2019\\xa0-\\xa0July 2021\\xa0(1 year 11 months)\\nNew York\\nTata Consultancy Services\\n8 years\\nAWS Architect\\nNovember 2017\\xa0-\\xa0September 2019\\xa0(1 year 11 months)\\nNewark, New Jersey\\n\\xa0 Page 1 of 2\\xa0 \\xa0\\nFull Stack Developer\\nAugust 2016\\xa0-\\xa0October 2017\\xa0(1 year 3 months)\\nUnited States\\nJava Developer\\nOctober 2011\\xa0-\\xa0August 2016\\xa0(4 years 11 months)\\nMumbai Area, India\\nEducation\\nRajiv Gandhi Prodyogiki Vishwavidyalaya\\nBachelor of Engineering - BE,\\xa0Computer Science\\xa0·\\xa0(2007\\xa0-\\xa02011)\\n\\xa0 Page 2 of 2\\n\\nWith this context, please chat with the user, always staying in character as Umesh Motwani.\""
      ]
     },
     "execution_count": 8,
     "metadata": {},
     "output_type": "execute_result"
    }
   ],
   "source": [
    "system_prompt"
   ]
  },
  {
   "cell_type": "code",
   "execution_count": 9,
   "metadata": {},
   "outputs": [],
   "source": [
    "def chat(message, history):\n",
    "    messages = [{\"role\": \"system\", \"content\": system_prompt}] + history + [{\"role\": \"user\", \"content\": message}]\n",
    "    response = openai.chat.completions.create(model=\"gpt-4o-mini\", messages=messages)\n",
    "    return response.choices[0].message.content"
   ]
  },
  {
   "cell_type": "code",
   "execution_count": 10,
   "metadata": {},
   "outputs": [
    {
     "name": "stdout",
     "output_type": "stream",
     "text": [
      "* Running on local URL:  http://127.0.0.1:7860\n",
      "* To create a public link, set `share=True` in `launch()`.\n"
     ]
    },
    {
     "data": {
      "text/html": [
       "<div><iframe src=\"http://127.0.0.1:7860/\" width=\"100%\" height=\"500\" allow=\"autoplay; camera; microphone; clipboard-read; clipboard-write;\" frameborder=\"0\" allowfullscreen></iframe></div>"
      ],
      "text/plain": [
       "<IPython.core.display.HTML object>"
      ]
     },
     "metadata": {},
     "output_type": "display_data"
    },
    {
     "data": {
      "text/plain": []
     },
     "execution_count": 10,
     "metadata": {},
     "output_type": "execute_result"
    }
   ],
   "source": [
    "gr.ChatInterface(chat, type=\"messages\").launch()"
   ]
  },
  {
   "cell_type": "markdown",
   "metadata": {},
   "source": [
    "## A lot is about to happen...\n",
    "\n",
    "1. Be able to ask an LLM to evaluate an answer\n",
    "2. Be able to rerun if the answer fails evaluation\n",
    "3. Put this together into 1 workflow\n",
    "\n",
    "All without any Agentic framework!"
   ]
  },
  {
   "cell_type": "code",
   "execution_count": 11,
   "metadata": {},
   "outputs": [],
   "source": [
    "# Create a Pydantic model for the Evaluation\n",
    "\n",
    "from pydantic import BaseModel\n",
    "\n",
    "class Evaluation(BaseModel):\n",
    "    is_acceptable: bool\n",
    "    feedback: str\n"
   ]
  },
  {
   "cell_type": "code",
   "execution_count": 12,
   "metadata": {},
   "outputs": [],
   "source": [
    "evaluator_system_prompt = f\"You are an evaluator that decides whether a response to a question is acceptable. \\\n",
    "You are provided with a conversation between a User and an Agent. Your task is to decide whether the Agent's latest response is acceptable quality. \\\n",
    "The Agent is playing the role of {name} and is representing {name} on their website. \\\n",
    "The Agent has been instructed to be professional and engaging, as if talking to a potential client or future employer who came across the website. \\\n",
    "The Agent has been provided with context on {name} in the form of their summary and LinkedIn details. Here's the information:\"\n",
    "\n",
    "evaluator_system_prompt += f\"\\n\\n## Summary:\\n{summary}\\n\\n## LinkedIn Profile:\\n{linkedin}\\n\\n\"\n",
    "evaluator_system_prompt += f\"With this context, please evaluate the latest response, replying with whether the response is acceptable and your feedback.\""
   ]
  },
  {
   "cell_type": "code",
   "execution_count": 13,
   "metadata": {},
   "outputs": [],
   "source": [
    "def evaluator_user_prompt(reply, message, history):\n",
    "    user_prompt = f\"Here's the conversation between the User and the Agent: \\n\\n{history}\\n\\n\"\n",
    "    user_prompt += f\"Here's the latest message from the User: \\n\\n{message}\\n\\n\"\n",
    "    user_prompt += f\"Here's the latest response from the Agent: \\n\\n{reply}\\n\\n\"\n",
    "    user_prompt += f\"Please evaluate the response, replying with whether it is acceptable and your feedback.\"\n",
    "    return user_prompt"
   ]
  },
  {
   "cell_type": "code",
   "execution_count": 14,
   "metadata": {},
   "outputs": [
    {
     "data": {
      "text/plain": [
       "True"
      ]
     },
     "execution_count": 14,
     "metadata": {},
     "output_type": "execute_result"
    }
   ],
   "source": [
    "load_dotenv(override=True)"
   ]
  },
  {
   "cell_type": "code",
   "execution_count": 15,
   "metadata": {},
   "outputs": [],
   "source": [
    "import os\n",
    "gemini = OpenAI(\n",
    "    api_key=os.getenv(\"GOOGLE_API_KEY\"), \n",
    "    base_url=\"https://generativelanguage.googleapis.com/v1beta/openai/\"\n",
    ")"
   ]
  },
  {
   "cell_type": "code",
   "execution_count": 16,
   "metadata": {},
   "outputs": [],
   "source": [
    "def evaluate(reply, message, history) -> Evaluation:\n",
    "\n",
    "    messages = [{\"role\": \"system\", \"content\": evaluator_system_prompt}] + [{\"role\": \"user\", \"content\": evaluator_user_prompt(reply, message, history)}]\n",
    "    response = gemini.beta.chat.completions.parse(model=\"gemini-2.0-flash\", messages=messages, response_format=Evaluation)\n",
    "    return response.choices[0].message.parsed"
   ]
  },
  {
   "cell_type": "code",
   "execution_count": 17,
   "metadata": {},
   "outputs": [],
   "source": [
    "messages = [{\"role\": \"system\", \"content\": system_prompt}] + [{\"role\": \"user\", \"content\": \"do you hold a patent?\"}]\n",
    "response = openai.chat.completions.create(model=\"gpt-4o-mini\", messages=messages)\n",
    "reply = response.choices[0].message.content"
   ]
  },
  {
   "cell_type": "code",
   "execution_count": 18,
   "metadata": {},
   "outputs": [
    {
     "data": {
      "text/plain": [
       "'I do not hold any patents. My expertise lies primarily in software engineering and application development, where I focus on designing and maintaining enterprise-level web applications. If you have any specific questions about my work or experience, feel free to ask!'"
      ]
     },
     "execution_count": 18,
     "metadata": {},
     "output_type": "execute_result"
    }
   ],
   "source": [
    "reply"
   ]
  },
  {
   "cell_type": "code",
   "execution_count": 19,
   "metadata": {},
   "outputs": [
    {
     "data": {
      "text/plain": [
       "Evaluation(is_acceptable=True, feedback='The response is appropriate. It answers the question directly and offers further assistance, maintaining a professional and engaging tone.')"
      ]
     },
     "execution_count": 19,
     "metadata": {},
     "output_type": "execute_result"
    }
   ],
   "source": [
    "evaluate(reply, \"do you hold a patent?\", messages[:1])"
   ]
  },
  {
   "cell_type": "markdown",
   "metadata": {},
   "source": []
  },
  {
   "cell_type": "code",
   "execution_count": 20,
   "metadata": {},
   "outputs": [],
   "source": [
    "def rerun(reply, message, history, feedback):\n",
    "    updated_system_prompt = system_prompt + f\"\\n\\n## Previous answer rejected\\nYou just tried to reply, but the quality control rejected your reply\\n\"\n",
    "    updated_system_prompt += f\"## Your attempted answer:\\n{reply}\\n\\n\"\n",
    "    updated_system_prompt += f\"## Reason for rejection:\\n{feedback}\\n\\n\"\n",
    "    messages = [{\"role\": \"system\", \"content\": updated_system_prompt}] + history + [{\"role\": \"user\", \"content\": message}]\n",
    "    response = openai.chat.completions.create(model=\"gpt-4o-mini\", messages=messages)\n",
    "    return response.choices[0].message.content"
   ]
  },
  {
   "cell_type": "code",
   "execution_count": 60,
   "metadata": {},
   "outputs": [],
   "source": [
    "def chat(message, history):\n",
    "    if \"patent\" in message:\n",
    "        system = system_prompt + \"\\n\\nEverything in your reply needs to be in jargon - \\\n",
    "              it is mandatory that you respond only and entirely in jargon\"\n",
    "    else:\n",
    "        system = system_prompt\n",
    "    messages = [{\"role\": \"system\", \"content\": system}] + history + [{\"role\": \"user\", \"content\": message}]\n",
    "    response = openai.chat.completions.create(model=\"gpt-4o-mini\", messages=messages)\n",
    "    reply =response.choices[0].message.content\n",
    "\n",
    "    evaluation = evaluate(reply, message, history)\n",
    "    \n",
    "    if evaluation.is_acceptable:\n",
    "        print(\"Passed evaluation - returning reply\")\n",
    "    else:\n",
    "        print(\"Failed evaluation - retrying\")\n",
    "        print(evaluation.feedback)\n",
    "        reply = rerun(reply, message, history, evaluation.feedback)       \n",
    "    return reply"
   ]
  },
  {
   "cell_type": "code",
   "execution_count": 61,
   "metadata": {},
   "outputs": [
    {
     "name": "stdout",
     "output_type": "stream",
     "text": [
      "* Running on local URL:  http://127.0.0.1:7861\n",
      "* To create a public link, set `share=True` in `launch()`.\n"
     ]
    },
    {
     "data": {
      "text/html": [
       "<div><iframe src=\"http://127.0.0.1:7861/\" width=\"100%\" height=\"500\" allow=\"autoplay; camera; microphone; clipboard-read; clipboard-write;\" frameborder=\"0\" allowfullscreen></iframe></div>"
      ],
      "text/plain": [
       "<IPython.core.display.HTML object>"
      ]
     },
     "metadata": {},
     "output_type": "display_data"
    },
    {
     "data": {
      "text/plain": []
     },
     "execution_count": 61,
     "metadata": {},
     "output_type": "execute_result"
    },
    {
     "name": "stdout",
     "output_type": "stream",
     "text": [
      "Passed evaluation - returning reply\n",
      "Passed evaluation - returning reply\n",
      "Failed evaluation - retrying\n",
      "The agent's response is nonsensical. It appears to be speaking in pig latin. This does not align with the instructions to be professional and engaging.\n",
      "Passed evaluation - returning reply\n",
      "Passed evaluation - returning reply\n",
      "Failed evaluation - retrying\n",
      "The response is unacceptable. The agent responded in pig latin, which is not professional or helpful.\n"
     ]
    }
   ],
   "source": [
    "gr.ChatInterface(chat, type=\"messages\").launch()"
   ]
  },
  {
   "cell_type": "markdown",
   "metadata": {},
   "source": []
  },
  {
   "cell_type": "code",
   "execution_count": null,
   "metadata": {},
   "outputs": [],
   "source": []
  }
 ],
 "metadata": {
  "kernelspec": {
   "display_name": ".venv",
   "language": "python",
   "name": "python3"
  },
  "language_info": {
   "codemirror_mode": {
    "name": "ipython",
    "version": 3
   },
   "file_extension": ".py",
   "mimetype": "text/x-python",
   "name": "python",
   "nbconvert_exporter": "python",
   "pygments_lexer": "ipython3",
   "version": "3.12.7"
  }
 },
 "nbformat": 4,
 "nbformat_minor": 2
}
