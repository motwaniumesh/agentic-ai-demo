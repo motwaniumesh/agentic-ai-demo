{
 "cells": [
  {
   "cell_type": "markdown",
   "metadata": {},
   "source": [
    "# Welcome to the start of your adventure in Agentic AI"
   ]
  },
  {
   "cell_type": "code",
   "execution_count": 23,
   "metadata": {},
   "outputs": [],
   "source": [
    "# First let's do an import\n",
    "from dotenv import load_dotenv\n"
   ]
  },
  {
   "cell_type": "code",
   "execution_count": 24,
   "metadata": {},
   "outputs": [
    {
     "data": {
      "text/plain": [
       "True"
      ]
     },
     "execution_count": 24,
     "metadata": {},
     "output_type": "execute_result"
    }
   ],
   "source": [
    "# Next it's time to load the API keys into environment variables\n",
    "\n",
    "load_dotenv(override=True)"
   ]
  },
  {
   "cell_type": "code",
   "execution_count": 25,
   "metadata": {},
   "outputs": [
    {
     "name": "stdout",
     "output_type": "stream",
     "text": [
      "OpenAI API Key exists and begins sk-proj-\n"
     ]
    }
   ],
   "source": [
    "# Check the keys\n",
    "\n",
    "import os\n",
    "openai_api_key = os.getenv('OPENAI_API_KEY')\n",
    "\n",
    "if openai_api_key:\n",
    "    print(f\"OpenAI API Key exists and begins {openai_api_key[:8]}\")\n",
    "else:\n",
    "    print(\"OpenAI API Key not set - please head to the troubleshooting guide in the guides folder\")\n",
    "    \n"
   ]
  },
  {
   "cell_type": "code",
   "execution_count": 26,
   "metadata": {},
   "outputs": [],
   "source": [
    "# And now - the all important import statement\n",
    "# If you get an import error - head over to troubleshooting guide\n",
    "\n",
    "from openai import OpenAI"
   ]
  },
  {
   "cell_type": "code",
   "execution_count": 27,
   "metadata": {},
   "outputs": [],
   "source": [
    "# And now we'll create an instance of the OpenAI class\n",
    "# If you're not sure what it means to create an instance of a class - head over to the guides folder!\n",
    "# If you get a NameError - head over to the guides folder to learn about NameErrors\n",
    "\n",
    "openai = OpenAI()"
   ]
  },
  {
   "cell_type": "code",
   "execution_count": 28,
   "metadata": {},
   "outputs": [],
   "source": [
    "# Create a list of messages in the familiar OpenAI format\n",
    "\n",
    "messages = [{\"role\": \"user\", \"content\": \"What is 2+2?\"}]"
   ]
  },
  {
   "cell_type": "code",
   "execution_count": 29,
   "metadata": {},
   "outputs": [
    {
     "name": "stdout",
     "output_type": "stream",
     "text": [
      "2 + 2 equals 4.\n"
     ]
    }
   ],
   "source": [
    "# And now call it! Any problems, head to the troubleshooting guide\n",
    "\n",
    "response = openai.chat.completions.create(\n",
    "    model=\"gpt-4o-mini\",\n",
    "    messages=messages\n",
    ")\n",
    "\n",
    "print(response.choices[0].message.content)\n"
   ]
  },
  {
   "cell_type": "code",
   "execution_count": 30,
   "metadata": {},
   "outputs": [],
   "source": [
    "# And now - let's ask for a question:\n",
    "\n",
    "question = \"Please propose a hard, challenging question to assess someone's IQ. Respond only with the question.\"\n",
    "messages = [{\"role\": \"user\", \"content\": question}]\n"
   ]
  },
  {
   "cell_type": "code",
   "execution_count": 31,
   "metadata": {},
   "outputs": [
    {
     "name": "stdout",
     "output_type": "stream",
     "text": [
      "A train leaves a station traveling north at 60 miles per hour. At the same time, another train leaves a station 120 miles south of the first station, traveling south at 75 miles per hour. How far apart will the two trains be 1 hour after they depart?\n"
     ]
    }
   ],
   "source": [
    "# ask it\n",
    "response = openai.chat.completions.create(\n",
    "    model=\"gpt-4o-mini\",\n",
    "    messages=messages\n",
    ")\n",
    "\n",
    "question = response.choices[0].message.content\n",
    "\n",
    "print(question)\n"
   ]
  },
  {
   "cell_type": "code",
   "execution_count": 32,
   "metadata": {},
   "outputs": [],
   "source": [
    "# form a new messages list\n",
    "messages = [{\"role\": \"user\", \"content\": question}]\n"
   ]
  },
  {
   "cell_type": "code",
   "execution_count": 33,
   "metadata": {},
   "outputs": [
    {
     "name": "stdout",
     "output_type": "stream",
     "text": [
      "To find out how far apart the two trains will be after 1 hour, we can calculate the distance each train travels in that time.\n",
      "\n",
      "1. The first train travels north at 60 miles per hour. After 1 hour, it will have traveled:\n",
      "   \\[\n",
      "   \\text{Distance traveled by the first train} = 60 \\text{ miles/hour} \\times 1 \\text{ hour} = 60 \\text{ miles}\n",
      "   \\]\n",
      "\n",
      "2. The second train travels south at 75 miles per hour. After 1 hour, it will have traveled:\n",
      "   \\[\n",
      "   \\text{Distance traveled by the second train} = 75 \\text{ miles/hour} \\times 1 \\text{ hour} = 75 \\text{ miles}\n",
      "   \\]\n",
      "\n",
      "Initially, the two trains are 120 miles apart (the distance between their starting points). After 1 hour, the distance between the two trains is the initial distance (120 miles) plus the distance each has traveled in opposite directions. Therefore, the total distance apart after 1 hour will be:\n",
      "\\[\n",
      "\\text{Total distance} = \\text{Initial distance} + \\text{Distance traveled by the first train} + \\text{Distance traveled by the second train}\n",
      "\\]\n",
      "Substituting in the values we found:\n",
      "\\[\n",
      "\\text{Total distance} = 120 \\text{ miles} + 60 \\text{ miles} + 75 \\text{ miles} = 120 + 60 + 75 = 255 \\text{ miles}\n",
      "\\]\n",
      "\n",
      "Thus, 1 hour after departing, the two trains will be **255 miles apart**.\n"
     ]
    }
   ],
   "source": [
    "# Ask it again\n",
    "\n",
    "response = openai.chat.completions.create(\n",
    "    model=\"gpt-4o-mini\",\n",
    "    messages=messages\n",
    ")\n",
    "\n",
    "answer = response.choices[0].message.content\n",
    "print(answer)\n"
   ]
  },
  {
   "cell_type": "code",
   "execution_count": 34,
   "metadata": {},
   "outputs": [
    {
     "data": {
      "text/markdown": [
       "To find out how far apart the two trains will be after 1 hour, we can calculate the distance each train travels in that time.\n",
       "\n",
       "1. The first train travels north at 60 miles per hour. After 1 hour, it will have traveled:\n",
       "   \\[\n",
       "   \\text{Distance traveled by the first train} = 60 \\text{ miles/hour} \\times 1 \\text{ hour} = 60 \\text{ miles}\n",
       "   \\]\n",
       "\n",
       "2. The second train travels south at 75 miles per hour. After 1 hour, it will have traveled:\n",
       "   \\[\n",
       "   \\text{Distance traveled by the second train} = 75 \\text{ miles/hour} \\times 1 \\text{ hour} = 75 \\text{ miles}\n",
       "   \\]\n",
       "\n",
       "Initially, the two trains are 120 miles apart (the distance between their starting points). After 1 hour, the distance between the two trains is the initial distance (120 miles) plus the distance each has traveled in opposite directions. Therefore, the total distance apart after 1 hour will be:\n",
       "\\[\n",
       "\\text{Total distance} = \\text{Initial distance} + \\text{Distance traveled by the first train} + \\text{Distance traveled by the second train}\n",
       "\\]\n",
       "Substituting in the values we found:\n",
       "\\[\n",
       "\\text{Total distance} = 120 \\text{ miles} + 60 \\text{ miles} + 75 \\text{ miles} = 120 + 60 + 75 = 255 \\text{ miles}\n",
       "\\]\n",
       "\n",
       "Thus, 1 hour after departing, the two trains will be **255 miles apart**."
      ],
      "text/plain": [
       "<IPython.core.display.Markdown object>"
      ]
     },
     "metadata": {},
     "output_type": "display_data"
    }
   ],
   "source": [
    "from IPython.display import Markdown, display\n",
    "\n",
    "display(Markdown(answer))\n",
    "\n"
   ]
  },
  {
   "cell_type": "markdown",
   "metadata": {},
   "source": [
    "# Congratulations!\n",
    "\n",
    "That was a small, simple step in the direction of Agentic AI, with your new environment!\n",
    "\n",
    "Next time things get more interesting..."
   ]
  },
  {
   "cell_type": "markdown",
   "metadata": {},
   "source": []
  }
 ],
 "metadata": {
  "kernelspec": {
   "display_name": ".venv",
   "language": "python",
   "name": "python3"
  },
  "language_info": {
   "codemirror_mode": {
    "name": "ipython",
    "version": 3
   },
   "file_extension": ".py",
   "mimetype": "text/x-python",
   "name": "python",
   "nbconvert_exporter": "python",
   "pygments_lexer": "ipython3",
   "version": "3.12.7"
  }
 },
 "nbformat": 4,
 "nbformat_minor": 2
}
